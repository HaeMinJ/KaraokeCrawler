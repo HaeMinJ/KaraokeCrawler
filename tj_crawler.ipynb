{
  "cells": [
    {
      "cell_type": "code",
      "metadata": {},
      "source": [
        "import requests\n",
        "import csv\n",
        "from bs4 import BeautifulSoup\n",
        "from tqdm import trange, notebook\n",
        "\n",
        "\n",
        "num = 0\n",
        "intPage = 1\n",
        "\n",
        "\n",
        "\n",
        "for num in notebook.tqdm(range(10)):\n",
        "    f = open(r'tj-%d.csv' % (num), 'w', newline='')\n",
        "    w = csv.writer(f)\n",
        "    while True:\n",
        "        url = 'http://www.tjmedia.co.kr/tjsong/song_search_list.asp?strType=16&strText=%d&strCond=0&searchOrderItem' \\\n",
        "              '=&searchOrderType=&strSize05=100&intPage=%d' % (\n",
        "                  num, intPage)\n",
        "\n",
        "        response = requests.get(url)\n",
        "        page = []\n",
        "        if response.status_code == 200:\n",
        "            soup = BeautifulSoup(response.content,\"html.parser\",from_encoding=\"iso-8859-1\")\n",
        "            list_song_num = soup.select('#BoardType1 > table > tbody > tr:nth-child(n+1) > td:nth-child(1)')\n",
        "            list_song_title = soup.select('#BoardType1 > table > tbody > tr:nth-child(n+1) > td:nth-child(2)')\n",
        "            list_song_singer = soup.select('#BoardType1 > table > tbody > tr:nth-child(n+1) > td:nth-child(3)')\n",
        "            list_song_lyricist = soup.select('#BoardType1 > table > tbody > tr:nth-child(n+1) > td:nth-child(4)')\n",
        "            list_song_writer = soup.select('#BoardType1 > table > tbody > tr:nth-child(n+1) > td:nth-child(5)')\n",
        "\n",
        "            size = len(list_song_num)\n",
        "            if size == 1:\n",
        "                break\n",
        "            for i in notebook.tqdm(range(size)):\n",
        "                d = [\n",
        "                    list_song_num[i].get_text(),\n",
        "                    list_song_title[i].get_text(),\n",
        "                    list_song_singer[i].get_text(),\n",
        "                    list_song_lyricist[i].get_text(),\n",
        "                    list_song_writer[i].get_text()\n",
        "                ]\n",
        "                page.append(d)\n",
        "\n",
        "                w.writerow(d)\n",
        "\n",
        "            intPage += 1\n",
        "            print(intPage)\n",
        "        else:\n",
        "            print(response.status_code)\n",
        "        \n",
        "    print(num + 1, \"/\", 10)\n",
        "f.close()\n"
      ],
      "outputs": [],
      "execution_count": null
    }
  ],
  "metadata": {
    "anaconda-cloud": {},
    "kernelspec": {
      "display_name": "Python 3",
      "language": "python",
      "name": "python3"
    },
    "language_info": {
      "codemirror_mode": {
        "name": "ipython",
        "version": 3
      },
      "file_extension": ".py",
      "mimetype": "text/x-python",
      "name": "python",
      "nbconvert_exporter": "python",
      "pygments_lexer": "ipython3",
      "version": "3.6.1"
    }
  },
  "nbformat": 4,
  "nbformat_minor": 4
}